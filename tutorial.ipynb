{
 "cells": [
  {
   "cell_type": "markdown",
   "metadata": {},
   "source": [
    "# PyPika Tutorial: Slicing, Averaging, and Preserving Order\n",
    "\n",
    "This notebook will demonstrate how to use PyPika to create SQL queries that involve:\n",
    "- Basic selection and filtering (slicing).\n",
    "- Aggregation (averaging).\n",
    "- Combining selection, averaging, and ensuring the order is maintained for other functions that depend on ordering.\n",
    "\n",
    "Let's get started by installing and importing the necessary packages.\n",
    "\n",
    "## Step 1: Installation and Imports\n",
    "\n",
    "First, ensure that you have PyPika installed.\n",
    "```bash\n",
    "!pip install pypika\n",
    "```\n",
    "\n",
    "Now, import PyPika and any other required packages:"
   ]
  },
  {
   "cell_type": "code",
   "execution_count": 12,
   "metadata": {},
   "outputs": [],
   "source": [
    "from pypika import Table, Field, functions as fn\n",
    "import sqlite3  # To simulate the database\n",
    "import pandas as pd\n",
    "import numpy as np"
   ]
  },
  {
   "cell_type": "markdown",
   "metadata": {},
   "source": [
    "For demonstration purposes, we will create a small SQLite database with a table named \"ds1\" and populate it with some sample data.\n"
   ]
  },
  {
   "cell_type": "markdown",
   "metadata": {},
   "source": [
    "## Step 2: Creating a Sample Database\n",
    "\n",
    "For demonstration purposes, we will create a small SQLite database with a table named \"ds1\" and populate it with a more realistic 3D dataset.\n",
    "\n",
    "The dataset will represent a grid mesh where `x` and `y` span from -1 to 1, and `z` is a Gaussian response as a function of `x` and `y` with added noise. We will also have `a` representing 10 copies with different noise levels simulating repeat measurements, and `b` representing two states that flip the sign of `z`.\n"
   ]
  },
  {
   "cell_type": "code",
   "execution_count": 13,
   "metadata": {},
   "outputs": [],
   "source": [
    "# Establish a connection to an in-memory SQLite database\n",
    "connection = sqlite3.connect(':memory:')\n",
    "cursor = connection.cursor()\n",
    "\n",
    "# Create the \"ds1\" table\n",
    "cursor.execute('''\n",
    "CREATE TABLE ds1 (\n",
    "    x REAL,\n",
    "    y REAL,\n",
    "    z REAL,\n",
    "    a INTEGER,\n",
    "    b INTEGER\n",
    ");\n",
    "''')\n",
    "\n",
    "# Generate sample data\n",
    "x_vals = np.linspace(-1, 1, 5)\n",
    "y_vals = np.linspace(-1, 1, 5)\n",
    "a_vals = range(1, 11)  # 10 copies with different noise\n",
    "b_vals = [1, -1]  # Two states flipping the sign of z\n",
    "\n",
    "sample_data = []\n",
    "for x in x_vals:\n",
    "    for y in y_vals:\n",
    "        base_z = np.exp(-(x**2 + y**2))  # Gaussian response\n",
    "        for a in a_vals:\n",
    "            noise = np.random.normal(0, 0.1)  # Adding noise\n",
    "            for b in b_vals:\n",
    "                z = base_z * b + noise\n",
    "                sample_data.append((x, y, z, a, b))\n",
    "\n",
    "# Insert the sample data into \"ds1\"\n",
    "cursor.executemany('INSERT INTO ds1 VALUES (?, ?, ?, ?, ?)', sample_data)\n",
    "connection.commit()"
   ]
  },
  {
   "cell_type": "markdown",
   "metadata": {},
   "source": [
    "## Step 3: Slicing and Averaging Using PyPika\n",
    "\n",
    "Now, let's use PyPika to build SQL queries that allow us to perform slicing (selecting rows based on conditions) and averaging.\n",
    "\n"
   ]
  },
  {
   "cell_type": "markdown",
   "metadata": {},
   "source": [
    "### Example 1: Simple Selection\n",
    "We want to select columns `x`, `y`, `z`, `a`, and `b` from `ds1` where `a == 1`."
   ]
  },
  {
   "cell_type": "code",
   "execution_count": 10,
   "metadata": {},
   "outputs": [
    {
     "name": "stdout",
     "output_type": "stream",
     "text": [
      "SELECT \"x\",\"y\",\"z\",\"a\" FROM \"ds1\" WHERE \"a\"=1\n",
      "\n",
      "Simple Selection Result:\n",
      "   x  y   z  a\n",
      "0  1  1  10  1\n",
      "1  1  2  20  1\n",
      "2  2  1  40  1\n",
      "3  2  2  50  1\n"
     ]
    }
   ],
   "source": [
    "# Define the table\n",
    "ds1 = Table('ds1')\n",
    "\n",
    "# Build the query\n",
    "query = ds1.select(ds1.x, ds1.y, ds1.z, ds1.a).where(ds1.a == 1)\n",
    "print(query)\n",
    "# Execute the query\n",
    "result_df = pd.read_sql_query(str(query), connection)\n",
    "print(\"\\nSimple Selection Result:\")\n",
    "print(result_df)"
   ]
  },
  {
   "cell_type": "markdown",
   "metadata": {},
   "source": [
    "### Example 2: Aggregating with Averaging\n",
    "We want to select columns `x`, `y`, and calculate the average of `z` where `a == 1`. The result should be grouped by `x` and `y`.\n"
   ]
  },
  {
   "cell_type": "code",
   "execution_count": 19,
   "metadata": {},
   "outputs": [
    {
     "name": "stdout",
     "output_type": "stream",
     "text": [
      "SELECT \"x\",\"y\",\"z\",\"a\",\"b\" FROM \"ds1\" WHERE \"a\"=1\n",
      "Simple Selection Result:\n",
      "      x    y         z  a  b\n",
      "0  -1.0 -1.0  0.119441  1  1\n",
      "1  -1.0 -1.0 -0.151230  1 -1\n",
      "2  -1.0 -0.5  0.289396  1  1\n",
      "3  -1.0 -0.5 -0.283613  1 -1\n",
      "4  -1.0  0.0  0.211500  1  1\n",
      "5  -1.0  0.0 -0.524258  1 -1\n",
      "6  -1.0  0.5  0.314464  1  1\n",
      "7  -1.0  0.5 -0.258546  1 -1\n",
      "8  -1.0  1.0 -0.028888  1  1\n",
      "9  -1.0  1.0 -0.299559  1 -1\n",
      "10 -0.5 -1.0  0.308932  1  1\n",
      "11 -0.5 -1.0 -0.264078  1 -1\n",
      "12 -0.5 -0.5  0.667427  1  1\n",
      "13 -0.5 -0.5 -0.545634  1 -1\n",
      "14 -0.5  0.0  0.822982  1  1\n",
      "15 -0.5  0.0 -0.734620  1 -1\n",
      "16 -0.5  0.5  0.596444  1  1\n",
      "17 -0.5  0.5 -0.616617  1 -1\n",
      "18 -0.5  1.0  0.294913  1  1\n",
      "19 -0.5  1.0 -0.278097  1 -1\n",
      "20  0.0 -1.0  0.456386  1  1\n",
      "21  0.0 -1.0 -0.279373  1 -1\n",
      "22  0.0 -0.5  0.693570  1  1\n",
      "23  0.0 -0.5 -0.864031  1 -1\n",
      "24  0.0  0.0  0.991673  1  1\n",
      "25  0.0  0.0 -1.008327  1 -1\n",
      "26  0.0  0.5  0.882755  1  1\n",
      "27  0.0  0.5 -0.674846  1 -1\n",
      "28  0.0  1.0  0.346760  1  1\n",
      "29  0.0  1.0 -0.388999  1 -1\n",
      "30  0.5 -1.0  0.219091  1  1\n",
      "31  0.5 -1.0 -0.353918  1 -1\n",
      "32  0.5 -0.5  0.860786  1  1\n",
      "33  0.5 -0.5 -0.352275  1 -1\n",
      "34  0.5  0.0  0.640485  1  1\n",
      "35  0.5  0.0 -0.917117  1 -1\n",
      "36  0.5  0.5  0.581322  1  1\n",
      "37  0.5  0.5 -0.631739  1 -1\n",
      "38  0.5  1.0  0.340091  1  1\n",
      "39  0.5  1.0 -0.232919  1 -1\n",
      "40  1.0 -1.0  0.121134  1  1\n",
      "41  1.0 -1.0 -0.149536  1 -1\n",
      "42  1.0 -0.5  0.245614  1  1\n",
      "43  1.0 -0.5 -0.327395  1 -1\n",
      "44  1.0  0.0  0.386608  1  1\n",
      "45  1.0  0.0 -0.349151  1 -1\n",
      "46  1.0  0.5  0.185443  1  1\n",
      "47  1.0  0.5 -0.387567  1 -1\n",
      "48  1.0  1.0  0.162639  1  1\n",
      "49  1.0  1.0 -0.108032  1 -1\n"
     ]
    }
   ],
   "source": [
    "# Define the table\n",
    "ds1 = Table('ds1')\n",
    "\n",
    "# Build the query\n",
    "query = ds1.select(ds1.x, ds1.y, ds1.z, ds1.a, ds1.b).where(ds1.a == 1)\n",
    "print(query)\n",
    "# Execute the query\n",
    "result_df = pd.read_sql_query(str(query), connection)\n",
    "print(\"Simple Selection Result:\")\n",
    "print(result_df)"
   ]
  },
  {
   "cell_type": "markdown",
   "metadata": {},
   "source": [
    "### Example 2: Aggregating with Averaging\n",
    "We want to select columns `x`, `y`, and calculate the average of `z` where `a == 1`. The result should be grouped by `x` and `y`."
   ]
  },
  {
   "cell_type": "code",
   "execution_count": 20,
   "metadata": {},
   "outputs": [
    {
     "name": "stdout",
     "output_type": "stream",
     "text": [
      "SELECT \"x\",\"y\",AVG(\"z\") \"avg_z\" FROM \"ds1\" WHERE \"a\"=1 GROUP BY \"x\",\"y\" ORDER BY \"x\",\"y\"\n",
      "Aggregation with Averaging Result:\n",
      "      x    y     avg_z\n",
      "0  -1.0 -1.0 -0.015895\n",
      "1  -1.0 -0.5  0.002892\n",
      "2  -1.0  0.0 -0.156379\n",
      "3  -1.0  0.5  0.027959\n",
      "4  -1.0  1.0 -0.164224\n",
      "5  -0.5 -1.0  0.022427\n",
      "6  -0.5 -0.5  0.060896\n",
      "7  -0.5  0.0  0.044181\n",
      "8  -0.5  0.5 -0.010087\n",
      "9  -0.5  1.0  0.008408\n",
      "10  0.0 -1.0  0.088506\n",
      "11  0.0 -0.5 -0.085231\n",
      "12  0.0  0.0 -0.008327\n",
      "13  0.0  0.5  0.103954\n",
      "14  0.0  1.0 -0.021119\n",
      "15  0.5 -1.0 -0.067414\n",
      "16  0.5 -0.5  0.254255\n",
      "17  0.5  0.0 -0.138316\n",
      "18  0.5  0.5 -0.025209\n",
      "19  0.5  1.0  0.053586\n",
      "20  1.0 -1.0 -0.014201\n",
      "21  1.0 -0.5 -0.040890\n",
      "22  1.0  0.0  0.018729\n",
      "23  1.0  0.5 -0.101062\n",
      "24  1.0  1.0  0.027303\n"
     ]
    }
   ],
   "source": [
    "# Build the query for aggregation\n",
    "query = (\n",
    "    ds1\n",
    "    .select(ds1.x, ds1.y, fn.Avg(ds1.z).as_('avg_z'))\n",
    "    .where(ds1.a == 1)\n",
    "    .groupby(ds1.x, ds1.y)\n",
    "    .orderby(ds1.x, ds1.y)\n",
    ")\n",
    "print(query)\n",
    "\n",
    "# Execute the query\n",
    "result_df = pd.read_sql_query(str(query), connection)\n",
    "print(\"Aggregation with Averaging Result:\")\n",
    "print(result_df)"
   ]
  },
  {
   "cell_type": "markdown",
   "metadata": {},
   "source": [
    "\n",
    "### Example 3: Combining Slicing, Averaging, and Preserving Order\n",
    "We want to make sure that when we select `x`, `y`, and `avg(z)` where `a == 1`, the result preserves the order of `x` and `y` so that other functions depending on the order will still work.\n"
   ]
  },
  {
   "cell_type": "markdown",
   "metadata": {},
   "source": [
    "In this example, we ensure the use of `.orderby()` to preserve the order of `x` and `y` in the final result. This ensures that if you pass the resulting DataFrame to any function that relies on the order of `x` and `y`, it will work correctly.\n"
   ]
  },
  {
   "cell_type": "code",
   "execution_count": 21,
   "metadata": {},
   "outputs": [
    {
     "name": "stdout",
     "output_type": "stream",
     "text": [
      "SELECT \"x\",\"y\",AVG(\"z\") \"avg_z\" FROM \"ds1\" WHERE \"a\"=1 GROUP BY \"x\",\"y\" ORDER BY \"x\",\"y\"\n",
      "Combined Selection and Averaging with Order Preserved:\n",
      "      x    y     avg_z\n",
      "0  -1.0 -1.0 -0.015895\n",
      "1  -1.0 -0.5  0.002892\n",
      "2  -1.0  0.0 -0.156379\n",
      "3  -1.0  0.5  0.027959\n",
      "4  -1.0  1.0 -0.164224\n",
      "5  -0.5 -1.0  0.022427\n",
      "6  -0.5 -0.5  0.060896\n",
      "7  -0.5  0.0  0.044181\n",
      "8  -0.5  0.5 -0.010087\n",
      "9  -0.5  1.0  0.008408\n",
      "10  0.0 -1.0  0.088506\n",
      "11  0.0 -0.5 -0.085231\n",
      "12  0.0  0.0 -0.008327\n",
      "13  0.0  0.5  0.103954\n",
      "14  0.0  1.0 -0.021119\n",
      "15  0.5 -1.0 -0.067414\n",
      "16  0.5 -0.5  0.254255\n",
      "17  0.5  0.0 -0.138316\n",
      "18  0.5  0.5 -0.025209\n",
      "19  0.5  1.0  0.053586\n",
      "20  1.0 -1.0 -0.014201\n",
      "21  1.0 -0.5 -0.040890\n",
      "22  1.0  0.0  0.018729\n",
      "23  1.0  0.5 -0.101062\n",
      "24  1.0  1.0  0.027303\n",
      "Is the DataFrame sorted by ['x', 'y']?\n",
      "True\n"
     ]
    }
   ],
   "source": [
    "# Build the combined query\n",
    "query = (\n",
    "    ds1\n",
    "    .select(ds1.x, ds1.y, fn.Avg(ds1.z).as_('avg_z'))\n",
    "    .where(ds1.a == 1)\n",
    "    .groupby(ds1.x, ds1.y)\n",
    "    .orderby(ds1.x, ds1.y)  # Ensure the ordering is maintained\n",
    ")\n",
    "\n",
    "print(query)\n",
    "# Execute the query\n",
    "result_df = pd.read_sql_query(str(query), connection)\n",
    "print(\"Combined Selection and Averaging with Order Preserved:\")\n",
    "print(result_df)\n",
    "\n",
    "\n",
    "# Verify that the ordering is maintained for further processing\n",
    "print(\"Is the DataFrame sorted by ['x', 'y']?\")\n",
    "print(result_df.equals(result_df.sort_values(by=['x', 'y'])))"
   ]
  },
  {
   "cell_type": "code",
   "execution_count": null,
   "metadata": {},
   "outputs": [],
   "source": []
  }
 ],
 "metadata": {
  "kernelspec": {
   "display_name": "ds310",
   "language": "python",
   "name": "python3"
  },
  "language_info": {
   "codemirror_mode": {
    "name": "ipython",
    "version": 3
   },
   "file_extension": ".py",
   "mimetype": "text/x-python",
   "name": "python",
   "nbconvert_exporter": "python",
   "pygments_lexer": "ipython3",
   "version": "3.10.11"
  }
 },
 "nbformat": 4,
 "nbformat_minor": 2
}
