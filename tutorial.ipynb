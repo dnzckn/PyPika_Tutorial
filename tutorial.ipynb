{
 "cells": [
  {
   "cell_type": "markdown",
   "metadata": {},
   "source": [
    "# PyPika Tutorial: Slicing, Averaging, and Preserving Order\n",
    "\n",
    "This notebook will demonstrate how to use PyPika to create SQL queries that involve:\n",
    "- Basic selection and filtering (slicing).\n",
    "- Aggregation (averaging).\n",
    "- Combining selection, averaging, and ensuring the order is maintained for other functions that depend on ordering.\n",
    "\n",
    "Let's get started by installing and importing the necessary packages.\n",
    "\n",
    "## Step 1: Installation and Imports\n",
    "\n",
    "First, ensure that you have PyPika installed.\n",
    "```bash\n",
    "!pip install pypika\n",
    "```\n",
    "\n",
    "Now, import PyPika and any other required packages:"
   ]
  },
  {
   "cell_type": "code",
   "execution_count": 1,
   "metadata": {},
   "outputs": [],
   "source": [
    "from pypika import Table, Field, functions as fn\n",
    "import sqlite3  # To simulate the database\n",
    "import pandas as pd\n",
    "import numpy as np"
   ]
  },
  {
   "cell_type": "markdown",
   "metadata": {},
   "source": [
    "## Step 2: Creating a Sample Database\n",
    "\n",
    "For demonstration purposes, we will create a small SQLite database with a table named `\"ds1\"` and populate it with data.\n",
    "\n",
    "The dataset (`ds1`) will represent a grid mesh where `x` and `y` span from -1 to 1, and `z` is a Gaussian response as a function of `x` and `y` with added noise. We will also have `a` representing 10 copies with different noise levels simulating repeat measurements, and `b` representing two states that flip the sign of `z`.\n"
   ]
  },
  {
   "cell_type": "code",
   "execution_count": 2,
   "metadata": {},
   "outputs": [],
   "source": [
    "# Establish a connection to an in-memory SQLite database\n",
    "connection = sqlite3.connect(':memory:')\n",
    "cursor = connection.cursor()\n",
    "\n",
    "# Create the \"ds1\" table\n",
    "cursor.execute('''\n",
    "CREATE TABLE ds1 (\n",
    "    x REAL,\n",
    "    y REAL,\n",
    "    z REAL,\n",
    "    a INTEGER,\n",
    "    b INTEGER\n",
    ");\n",
    "''')\n",
    "\n",
    "# Generate sample data\n",
    "x_vals = np.linspace(-1, 1, 5)\n",
    "y_vals = np.linspace(-1, 1, 5)\n",
    "a_vals = range(1, 11)  # 10 copies with different noise\n",
    "b_vals = [1, -1]  # Two states flipping the sign of z\n",
    "\n",
    "sample_data = []\n",
    "for x in x_vals:\n",
    "    for y in y_vals:\n",
    "        base_z = np.exp(-(x**2 + y**2))  # Gaussian response\n",
    "        for a in a_vals:\n",
    "            noise = np.random.normal(0, 0.1)  # Adding noise\n",
    "            for b in b_vals:\n",
    "                z = base_z * b + noise\n",
    "                sample_data.append((x, y, z, a, b))\n",
    "\n",
    "# Insert the sample data into \"ds1\"\n",
    "cursor.executemany('INSERT INTO ds1 VALUES (?, ?, ?, ?, ?)', sample_data)\n",
    "connection.commit()"
   ]
  },
  {
   "cell_type": "markdown",
   "metadata": {},
   "source": [
    "## Step 3: Slicing and Averaging Using PyPika\n",
    "\n",
    "Now, let's use PyPika to build SQL queries that allow us to perform slicing (selecting rows based on conditions) and averaging.\n",
    "\n"
   ]
  },
  {
   "cell_type": "markdown",
   "metadata": {},
   "source": [
    "### Example 1: Simple Selection\n",
    "We want to select columns `x`, `y`, `z`, `a`, and `b` from `ds1` where `a == 1`."
   ]
  },
  {
   "cell_type": "code",
   "execution_count": 3,
   "metadata": {},
   "outputs": [
    {
     "name": "stdout",
     "output_type": "stream",
     "text": [
      "SELECT \"x\",\"y\",\"z\",\"a\" FROM \"ds1\" WHERE \"a\"=1\n",
      "\n",
      "Simple Selection Result:\n",
      "      x    y         z  a\n",
      "0  -1.0 -1.0  0.069362  1\n",
      "1  -1.0 -1.0 -0.201309  1\n",
      "2  -1.0 -0.5  0.192130  1\n",
      "3  -1.0 -0.5 -0.380880  1\n",
      "4  -1.0  0.0  0.366027  1\n",
      "5  -1.0  0.0 -0.369732  1\n",
      "6  -1.0  0.5  0.264043  1\n",
      "7  -1.0  0.5 -0.308967  1\n",
      "8  -1.0  1.0  0.202090  1\n",
      "9  -1.0  1.0 -0.068581  1\n",
      "10 -0.5 -1.0  0.203297  1\n",
      "11 -0.5 -1.0 -0.369713  1\n",
      "12 -0.5 -0.5  0.490341  1\n",
      "13 -0.5 -0.5 -0.722720  1\n",
      "14 -0.5  0.0  0.758477  1\n",
      "15 -0.5  0.0 -0.799125  1\n",
      "16 -0.5  0.5  0.733358  1\n",
      "17 -0.5  0.5 -0.479704  1\n",
      "18 -0.5  1.0  0.295450  1\n",
      "19 -0.5  1.0 -0.277560  1\n",
      "20  0.0 -1.0  0.436238  1\n",
      "21  0.0 -1.0 -0.299521  1\n",
      "22  0.0 -0.5  0.880419  1\n",
      "23  0.0 -0.5 -0.677182  1\n",
      "24  0.0  0.0  0.955376  1\n",
      "25  0.0  0.0 -1.044624  1\n",
      "26  0.0  0.5  0.764328  1\n",
      "27  0.0  0.5 -0.793274  1\n",
      "28  0.0  1.0  0.375256  1\n",
      "29  0.0  1.0 -0.360503  1\n",
      "30  0.5 -1.0  0.149250  1\n",
      "31  0.5 -1.0 -0.423760  1\n",
      "32  0.5 -0.5  0.632334  1\n",
      "33  0.5 -0.5 -0.580727  1\n",
      "34  0.5  0.0  0.809094  1\n",
      "35  0.5  0.0 -0.748508  1\n",
      "36  0.5  0.5  0.669890  1\n",
      "37  0.5  0.5 -0.543171  1\n",
      "38  0.5  1.0  0.162301  1\n",
      "39  0.5  1.0 -0.410709  1\n",
      "40  1.0 -1.0 -0.008527  1\n",
      "41  1.0 -1.0 -0.279198  1\n",
      "42  1.0 -0.5  0.189848  1\n",
      "43  1.0 -0.5 -0.383161  1\n",
      "44  1.0  0.0  0.488721  1\n",
      "45  1.0  0.0 -0.247038  1\n",
      "46  1.0  0.5  0.191744  1\n",
      "47  1.0  0.5 -0.381265  1\n",
      "48  1.0  1.0  0.312904  1\n",
      "49  1.0  1.0  0.042233  1\n"
     ]
    }
   ],
   "source": [
    "# Define the table\n",
    "ds1 = Table('ds1')\n",
    "\n",
    "# Build the query\n",
    "query = ds1.select(ds1.x, ds1.y, ds1.z, ds1.a).where(ds1.a == 1)\n",
    "print(query)\n",
    "# Execute the query\n",
    "result_df = pd.read_sql_query(str(query), connection)\n",
    "print(\"\\nSimple Selection Result:\")\n",
    "print(result_df)"
   ]
  },
  {
   "cell_type": "markdown",
   "metadata": {},
   "source": [
    "### Example 2: Aggregating with Averaging\n",
    "We want to select columns `x`, `y`, and calculate the average of `z` where `a == 1`. The result should be grouped by `x` and `y`.\n"
   ]
  },
  {
   "cell_type": "code",
   "execution_count": 4,
   "metadata": {},
   "outputs": [
    {
     "name": "stdout",
     "output_type": "stream",
     "text": [
      "SELECT \"x\",\"y\",\"z\",\"a\",\"b\" FROM \"ds1\" WHERE \"a\"=1\n",
      "Simple Selection Result:\n",
      "      x    y         z  a  b\n",
      "0  -1.0 -1.0  0.069362  1  1\n",
      "1  -1.0 -1.0 -0.201309  1 -1\n",
      "2  -1.0 -0.5  0.192130  1  1\n",
      "3  -1.0 -0.5 -0.380880  1 -1\n",
      "4  -1.0  0.0  0.366027  1  1\n",
      "5  -1.0  0.0 -0.369732  1 -1\n",
      "6  -1.0  0.5  0.264043  1  1\n",
      "7  -1.0  0.5 -0.308967  1 -1\n",
      "8  -1.0  1.0  0.202090  1  1\n",
      "9  -1.0  1.0 -0.068581  1 -1\n",
      "10 -0.5 -1.0  0.203297  1  1\n",
      "11 -0.5 -1.0 -0.369713  1 -1\n",
      "12 -0.5 -0.5  0.490341  1  1\n",
      "13 -0.5 -0.5 -0.722720  1 -1\n",
      "14 -0.5  0.0  0.758477  1  1\n",
      "15 -0.5  0.0 -0.799125  1 -1\n",
      "16 -0.5  0.5  0.733358  1  1\n",
      "17 -0.5  0.5 -0.479704  1 -1\n",
      "18 -0.5  1.0  0.295450  1  1\n",
      "19 -0.5  1.0 -0.277560  1 -1\n",
      "20  0.0 -1.0  0.436238  1  1\n",
      "21  0.0 -1.0 -0.299521  1 -1\n",
      "22  0.0 -0.5  0.880419  1  1\n",
      "23  0.0 -0.5 -0.677182  1 -1\n",
      "24  0.0  0.0  0.955376  1  1\n",
      "25  0.0  0.0 -1.044624  1 -1\n",
      "26  0.0  0.5  0.764328  1  1\n",
      "27  0.0  0.5 -0.793274  1 -1\n",
      "28  0.0  1.0  0.375256  1  1\n",
      "29  0.0  1.0 -0.360503  1 -1\n",
      "30  0.5 -1.0  0.149250  1  1\n",
      "31  0.5 -1.0 -0.423760  1 -1\n",
      "32  0.5 -0.5  0.632334  1  1\n",
      "33  0.5 -0.5 -0.580727  1 -1\n",
      "34  0.5  0.0  0.809094  1  1\n",
      "35  0.5  0.0 -0.748508  1 -1\n",
      "36  0.5  0.5  0.669890  1  1\n",
      "37  0.5  0.5 -0.543171  1 -1\n",
      "38  0.5  1.0  0.162301  1  1\n",
      "39  0.5  1.0 -0.410709  1 -1\n",
      "40  1.0 -1.0 -0.008527  1  1\n",
      "41  1.0 -1.0 -0.279198  1 -1\n",
      "42  1.0 -0.5  0.189848  1  1\n",
      "43  1.0 -0.5 -0.383161  1 -1\n",
      "44  1.0  0.0  0.488721  1  1\n",
      "45  1.0  0.0 -0.247038  1 -1\n",
      "46  1.0  0.5  0.191744  1  1\n",
      "47  1.0  0.5 -0.381265  1 -1\n",
      "48  1.0  1.0  0.312904  1  1\n",
      "49  1.0  1.0  0.042233  1 -1\n"
     ]
    }
   ],
   "source": [
    "# Define the table\n",
    "ds1 = Table('ds1')\n",
    "\n",
    "# Build the query\n",
    "query = ds1.select(ds1.x, ds1.y, ds1.z, ds1.a, ds1.b).where(ds1.a == 1)\n",
    "print(query)\n",
    "# Execute the query\n",
    "result_df = pd.read_sql_query(str(query), connection)\n",
    "print(\"Simple Selection Result:\")\n",
    "print(result_df)"
   ]
  },
  {
   "cell_type": "markdown",
   "metadata": {},
   "source": [
    "### Example 2: Aggregating with Averaging\n",
    "We want to select columns `x`, `y`, and calculate the average of `z` where `a == 1`. The result should be grouped by `x` and `y`."
   ]
  },
  {
   "cell_type": "code",
   "execution_count": 5,
   "metadata": {},
   "outputs": [
    {
     "name": "stdout",
     "output_type": "stream",
     "text": [
      "SELECT \"x\",\"y\",AVG(\"z\") \"avg_z\" FROM \"ds1\" WHERE \"a\"=1 GROUP BY \"x\",\"y\" ORDER BY \"x\",\"y\"\n",
      "Aggregation with Averaging Result:\n",
      "      x    y     avg_z\n",
      "0  -1.0 -1.0 -0.065973\n",
      "1  -1.0 -0.5 -0.094375\n",
      "2  -1.0  0.0 -0.001853\n",
      "3  -1.0  0.5 -0.022462\n",
      "4  -1.0  1.0  0.066755\n",
      "5  -0.5 -1.0 -0.083208\n",
      "6  -0.5 -0.5 -0.116190\n",
      "7  -0.5  0.0 -0.020324\n",
      "8  -0.5  0.5  0.126827\n",
      "9  -0.5  1.0  0.008945\n",
      "10  0.0 -1.0  0.068359\n",
      "11  0.0 -0.5  0.101619\n",
      "12  0.0  0.0 -0.044624\n",
      "13  0.0  0.5 -0.014473\n",
      "14  0.0  1.0  0.007377\n",
      "15  0.5 -1.0 -0.137255\n",
      "16  0.5 -0.5  0.025803\n",
      "17  0.5  0.0  0.030293\n",
      "18  0.5  0.5  0.063359\n",
      "19  0.5  1.0 -0.124204\n",
      "20  1.0 -1.0 -0.143863\n",
      "21  1.0 -0.5 -0.096657\n",
      "22  1.0  0.0  0.120842\n",
      "23  1.0  0.5 -0.094760\n",
      "24  1.0  1.0  0.177569\n"
     ]
    }
   ],
   "source": [
    "# Build the query for aggregation\n",
    "query = (\n",
    "    ds1\n",
    "    .select(ds1.x, ds1.y, fn.Avg(ds1.z).as_('avg_z'))\n",
    "    .where(ds1.a == 1)\n",
    "    .groupby(ds1.x, ds1.y)\n",
    "    .orderby(ds1.x, ds1.y)\n",
    ")\n",
    "print(query)\n",
    "\n",
    "# Execute the query\n",
    "result_df = pd.read_sql_query(str(query), connection)\n",
    "print(\"Aggregation with Averaging Result:\")\n",
    "print(result_df)"
   ]
  },
  {
   "cell_type": "markdown",
   "metadata": {},
   "source": [
    "\n",
    "### Example 3: Combining Slicing, Averaging, and Preserving Order\n",
    "We want to make sure that when we select `x`, `y`, and `avg(z)` where `a == 1`, the result preserves the order of `x` and `y` so that other functions depending on the order will still work.\n"
   ]
  },
  {
   "cell_type": "markdown",
   "metadata": {},
   "source": [
    "In this example, we ensure the use of `.orderby()` to preserve the order of `x` and `y` in the final result. This ensures that if you pass the resulting DataFrame to any function that relies on the order of `x` and `y`, it will work correctly.\n"
   ]
  },
  {
   "cell_type": "code",
   "execution_count": 6,
   "metadata": {},
   "outputs": [
    {
     "name": "stdout",
     "output_type": "stream",
     "text": [
      "SELECT \"x\",\"y\",AVG(\"z\") \"avg_z\" FROM \"ds1\" WHERE \"a\"=1 GROUP BY \"x\",\"y\" ORDER BY \"x\",\"y\"\n",
      "Combined Selection and Averaging with Order Preserved:\n",
      "      x    y     avg_z\n",
      "0  -1.0 -1.0 -0.065973\n",
      "1  -1.0 -0.5 -0.094375\n",
      "2  -1.0  0.0 -0.001853\n",
      "3  -1.0  0.5 -0.022462\n",
      "4  -1.0  1.0  0.066755\n",
      "5  -0.5 -1.0 -0.083208\n",
      "6  -0.5 -0.5 -0.116190\n",
      "7  -0.5  0.0 -0.020324\n",
      "8  -0.5  0.5  0.126827\n",
      "9  -0.5  1.0  0.008945\n",
      "10  0.0 -1.0  0.068359\n",
      "11  0.0 -0.5  0.101619\n",
      "12  0.0  0.0 -0.044624\n",
      "13  0.0  0.5 -0.014473\n",
      "14  0.0  1.0  0.007377\n",
      "15  0.5 -1.0 -0.137255\n",
      "16  0.5 -0.5  0.025803\n",
      "17  0.5  0.0  0.030293\n",
      "18  0.5  0.5  0.063359\n",
      "19  0.5  1.0 -0.124204\n",
      "20  1.0 -1.0 -0.143863\n",
      "21  1.0 -0.5 -0.096657\n",
      "22  1.0  0.0  0.120842\n",
      "23  1.0  0.5 -0.094760\n",
      "24  1.0  1.0  0.177569\n",
      "Is the DataFrame sorted by ['x', 'y']?\n",
      "True\n"
     ]
    }
   ],
   "source": [
    "# Build the combined query\n",
    "query = (\n",
    "    ds1\n",
    "    .select(ds1.x, ds1.y, fn.Avg(ds1.z).as_('avg_z'))\n",
    "    .where(ds1.a == 1)\n",
    "    .groupby(ds1.x, ds1.y)\n",
    "    .orderby(ds1.x, ds1.y)  # Ensure the ordering is maintained\n",
    ")\n",
    "\n",
    "print(query)\n",
    "# Execute the query\n",
    "result_df = pd.read_sql_query(str(query), connection)\n",
    "print(\"Combined Selection and Averaging with Order Preserved:\")\n",
    "print(result_df)\n",
    "\n",
    "\n",
    "# Verify that the ordering is maintained for further processing\n",
    "print(\"Is the DataFrame sorted by ['x', 'y']?\")\n",
    "print(result_df.equals(result_df.sort_values(by=['x', 'y'])))"
   ]
  },
  {
   "cell_type": "markdown",
   "metadata": {},
   "source": [
    "### Example 4: Averaging Across `a` and Selecting `b`\n",
    "We want to select `x`, `y`, and `avg(z)` across all values of `a`, while also selecting only the rows where `b == 1`. The result should be grouped by `x`, `y`, and preserve the order.\n"
   ]
  },
  {
   "cell_type": "code",
   "execution_count": 7,
   "metadata": {},
   "outputs": [
    {
     "name": "stdout",
     "output_type": "stream",
     "text": [
      "Averaging Across 'a' with 'b' Selected Result:\n",
      "      x    y     avg_z\n",
      "0  -1.0 -1.0  0.181229\n",
      "1  -1.0 -0.5  0.237509\n",
      "2  -1.0  0.0  0.377482\n",
      "3  -1.0  0.5  0.261564\n",
      "4  -1.0  1.0  0.144088\n",
      "5  -0.5 -1.0  0.231555\n",
      "6  -0.5 -0.5  0.561442\n",
      "7  -0.5  0.0  0.776251\n",
      "8  -0.5  0.5  0.670895\n",
      "9  -0.5  1.0  0.337831\n",
      "10  0.0 -1.0  0.317837\n",
      "11  0.0 -0.5  0.735524\n",
      "12  0.0  0.0  0.993011\n",
      "13  0.0  0.5  0.760221\n",
      "14  0.0  1.0  0.412656\n",
      "15  0.5 -1.0  0.269312\n",
      "16  0.5 -0.5  0.603588\n",
      "17  0.5  0.0  0.816241\n",
      "18  0.5  0.5  0.568472\n",
      "19  0.5  1.0  0.286982\n",
      "20  1.0 -1.0  0.116679\n",
      "21  1.0 -0.5  0.296672\n",
      "22  1.0  0.0  0.402449\n",
      "23  1.0  0.5  0.310698\n",
      "24  1.0  1.0  0.138830\n"
     ]
    }
   ],
   "source": [
    "# Build the query for averaging across `a` and selecting `b`\n",
    "query = (\n",
    "    ds1\n",
    "    .select(ds1.x, ds1.y, fn.Avg(ds1.z).as_('avg_z'))\n",
    "    .where(ds1.b == 1)\n",
    "    .groupby(ds1.x, ds1.y)\n",
    "    .orderby(ds1.x, ds1.y)\n",
    ")\n",
    "\n",
    "# Execute the query\n",
    "result_df = pd.read_sql_query(str(query), connection)\n",
    "print(\"Averaging Across 'a' with 'b' Selected Result:\")\n",
    "print(result_df)"
   ]
  },
  {
   "cell_type": "code",
   "execution_count": null,
   "metadata": {},
   "outputs": [],
   "source": []
  }
 ],
 "metadata": {
  "kernelspec": {
   "display_name": "ds310",
   "language": "python",
   "name": "python3"
  },
  "language_info": {
   "codemirror_mode": {
    "name": "ipython",
    "version": 3
   },
   "file_extension": ".py",
   "mimetype": "text/x-python",
   "name": "python",
   "nbconvert_exporter": "python",
   "pygments_lexer": "ipython3",
   "version": "3.10.11"
  }
 },
 "nbformat": 4,
 "nbformat_minor": 2
}
